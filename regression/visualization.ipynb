{
 "cells": [
  {
   "cell_type": "code",
   "execution_count": 1,
   "metadata": {},
   "outputs": [],
   "source": [
    "import numpy as np\n",
    "import pandas as pd\n",
    "from matplotlib import pyplot as plt"
   ]
  },
  {
   "cell_type": "code",
   "execution_count": 37,
   "metadata": {},
   "outputs": [
    {
     "name": "stdout",
     "output_type": "stream",
     "text": [
      "<class 'pandas.core.frame.DataFrame'>\n",
      "RangeIndex: 394 entries, 1 to 394\n",
      "Data columns (total 2 columns):\n",
      " #   Column     Non-Null Count  Dtype         \n",
      "---  ------     --------------  -----         \n",
      " 0   day        394 non-null    datetime64[ns]\n",
      " 1   covid_num  394 non-null    int32         \n",
      "dtypes: datetime64[ns](1), int32(1)\n",
      "memory usage: 4.7 KB\n",
      "None\n"
     ]
    }
   ],
   "source": [
    "\n",
    "#데이터 특성을 보기 위해 시각화\n",
    "data=pd.read_csv('corr 최종구글없음 시계열.csv',encoding='utf-8',names=['day','covid_num'])\n",
    "data=data[1:]\n",
    "data['covid_num']=data['covid_num'].astype('int')\n",
    "\n",
    "data['day']=pd.to_datetime(data['day'])\n",
    "print(data.info())\n",
    "#sns.pairplot(data=data)"
   ]
  },
  {
   "cell_type": "code",
   "execution_count": 41,
   "metadata": {},
   "outputs": [],
   "source": [
    "data['split'] = np.random.randn(data.shape[0], 1)\n",
    "\n",
    "msk = np.random.rand(len(data)) <= 0.7\n",
    "\n",
    "train = data[msk]\n",
    "test = data[~msk]"
   ]
  },
  {
   "cell_type": "code",
   "execution_count": 42,
   "metadata": {},
   "outputs": [
    {
     "data": {
      "text/html": [
       "<div>\n",
       "<style scoped>\n",
       "    .dataframe tbody tr th:only-of-type {\n",
       "        vertical-align: middle;\n",
       "    }\n",
       "\n",
       "    .dataframe tbody tr th {\n",
       "        vertical-align: top;\n",
       "    }\n",
       "\n",
       "    .dataframe thead th {\n",
       "        text-align: right;\n",
       "    }\n",
       "</style>\n",
       "<table border=\"1\" class=\"dataframe\">\n",
       "  <thead>\n",
       "    <tr style=\"text-align: right;\">\n",
       "      <th></th>\n",
       "      <th>day</th>\n",
       "      <th>covid_num</th>\n",
       "      <th>split</th>\n",
       "    </tr>\n",
       "  </thead>\n",
       "  <tbody>\n",
       "    <tr>\n",
       "      <th>3</th>\n",
       "      <td>2019-11-22</td>\n",
       "      <td>0</td>\n",
       "      <td>1.277031</td>\n",
       "    </tr>\n",
       "    <tr>\n",
       "      <th>4</th>\n",
       "      <td>2019-11-23</td>\n",
       "      <td>0</td>\n",
       "      <td>1.102554</td>\n",
       "    </tr>\n",
       "    <tr>\n",
       "      <th>5</th>\n",
       "      <td>2019-11-24</td>\n",
       "      <td>0</td>\n",
       "      <td>0.074297</td>\n",
       "    </tr>\n",
       "    <tr>\n",
       "      <th>7</th>\n",
       "      <td>2019-11-26</td>\n",
       "      <td>0</td>\n",
       "      <td>0.066679</td>\n",
       "    </tr>\n",
       "    <tr>\n",
       "      <th>8</th>\n",
       "      <td>2019-11-27</td>\n",
       "      <td>0</td>\n",
       "      <td>1.239136</td>\n",
       "    </tr>\n",
       "    <tr>\n",
       "      <th>...</th>\n",
       "      <td>...</td>\n",
       "      <td>...</td>\n",
       "      <td>...</td>\n",
       "    </tr>\n",
       "    <tr>\n",
       "      <th>387</th>\n",
       "      <td>2020-12-10</td>\n",
       "      <td>682</td>\n",
       "      <td>-0.030724</td>\n",
       "    </tr>\n",
       "    <tr>\n",
       "      <th>389</th>\n",
       "      <td>2020-12-12</td>\n",
       "      <td>950</td>\n",
       "      <td>-0.527876</td>\n",
       "    </tr>\n",
       "    <tr>\n",
       "      <th>390</th>\n",
       "      <td>2020-12-13</td>\n",
       "      <td>1030</td>\n",
       "      <td>-0.234390</td>\n",
       "    </tr>\n",
       "    <tr>\n",
       "      <th>391</th>\n",
       "      <td>2020-12-14</td>\n",
       "      <td>718</td>\n",
       "      <td>-0.331353</td>\n",
       "    </tr>\n",
       "    <tr>\n",
       "      <th>394</th>\n",
       "      <td>2020-12-17</td>\n",
       "      <td>1014</td>\n",
       "      <td>-1.016526</td>\n",
       "    </tr>\n",
       "  </tbody>\n",
       "</table>\n",
       "<p>265 rows × 3 columns</p>\n",
       "</div>"
      ],
      "text/plain": [
       "           day  covid_num     split\n",
       "3   2019-11-22          0  1.277031\n",
       "4   2019-11-23          0  1.102554\n",
       "5   2019-11-24          0  0.074297\n",
       "7   2019-11-26          0  0.066679\n",
       "8   2019-11-27          0  1.239136\n",
       "..         ...        ...       ...\n",
       "387 2020-12-10        682 -0.030724\n",
       "389 2020-12-12        950 -0.527876\n",
       "390 2020-12-13       1030 -0.234390\n",
       "391 2020-12-14        718 -0.331353\n",
       "394 2020-12-17       1014 -1.016526\n",
       "\n",
       "[265 rows x 3 columns]"
      ]
     },
     "execution_count": 42,
     "metadata": {},
     "output_type": "execute_result"
    }
   ],
   "source": [
    "train"
   ]
  },
  {
   "cell_type": "code",
   "execution_count": 43,
   "metadata": {},
   "outputs": [
    {
     "data": {
      "text/plain": [
       "<function matplotlib.pyplot.show(close=None, block=None)>"
      ]
     },
     "execution_count": 43,
     "metadata": {},
     "output_type": "execute_result"
    },
    {
     "data": {
      "image/png": "[encoded data removed]",
      "text/plain": [
       "<Figure size 432x288 with 1 Axes>"
      ]
     },
     "metadata": {
      "needs_background": "light"
     },
     "output_type": "display_data"
    }
   ],
   "source": [
    "train.index=train['day']\n",
    "train.set_index('day',inplace=True)\n",
    "train.plot()\n",
    "plt.show"
   ]
  },
  {
   "cell_type": "code",
   "execution_count": 44,
   "metadata": {},
   "outputs": [
    {
     "name": "stderr",
     "output_type": "stream",
     "text": [
      "C:\\ProgramData\\Anaconda3\\lib\\site-packages\\statsmodels\\tsa\\arima_model.py:472: FutureWarning: \n",
      "statsmodels.tsa.arima_model.ARMA and statsmodels.tsa.arima_model.ARIMA have\n",
      "been deprecated in favor of statsmodels.tsa.arima.model.ARIMA (note the .\n",
      "between arima and model) and\n",
      "statsmodels.tsa.SARIMAX. These will be removed after the 0.12 release.\n",
      "\n",
      "statsmodels.tsa.arima.model.ARIMA makes use of the statespace framework and\n",
      "is both well tested and maintained.\n",
      "\n",
      "To silence this warning and continue using ARMA and ARIMA until they are\n",
      "removed, use:\n",
      "\n",
      "import warnings\n",
      "warnings.filterwarnings('ignore', 'statsmodels.tsa.arima_model.ARMA',\n",
      "                        FutureWarning)\n",
      "warnings.filterwarnings('ignore', 'statsmodels.tsa.arima_model.ARIMA',\n",
      "                        FutureWarning)\n",
      "\n",
      "  warnings.warn(ARIMA_DEPRECATION_WARN, FutureWarning)\n"
     ]
    },
    {
     "name": "stdout",
     "output_type": "stream",
     "text": [
      "                             ARIMA Model Results                              \n",
      "==============================================================================\n",
      "Dep. Variable:                    D.y   No. Observations:                  264\n",
      "Model:                 ARIMA(2, 1, 2)   Log Likelihood               -1477.825\n",
      "Method:                       css-mle   S.D. of innovations             65.130\n",
      "Date:                Mon, 21 Dec 2020   AIC                           2967.650\n",
      "Time:                        19:15:56   BIC                           2989.106\n",
      "Sample:                             1   HQIC                          2976.271\n",
      "                                                                              \n",
      "==============================================================================\n",
      "                 coef    std err          z      P>|z|      [0.025      0.975]\n",
      "------------------------------------------------------------------------------\n",
      "const          3.7133      3.452      1.076      0.282      -3.052      10.478\n",
      "ar.L1.D.y      0.6595      0.069      9.541      0.000       0.524       0.795\n",
      "ar.L2.D.y     -0.5874      0.074     -7.987      0.000      -0.732      -0.443\n",
      "ma.L1.D.y     -1.0743      0.042    -25.590      0.000      -1.157      -0.992\n",
      "ma.L2.D.y      0.8740      0.044     20.057      0.000       0.789       0.959\n",
      "                                    Roots                                    \n",
      "=============================================================================\n",
      "                  Real          Imaginary           Modulus         Frequency\n",
      "-----------------------------------------------------------------------------\n",
      "AR.1            0.5614           -1.1778j            1.3048           -0.1792\n",
      "AR.2            0.5614           +1.1778j            1.3048            0.1792\n",
      "MA.1            0.6145           -0.8755j            1.0696           -0.1526\n",
      "MA.2            0.6145           +0.8755j            1.0696            0.1526\n",
      "-----------------------------------------------------------------------------\n"
     ]
    },
    {
     "name": "stderr",
     "output_type": "stream",
     "text": [
      "C:\\ProgramData\\Anaconda3\\lib\\site-packages\\statsmodels\\tsa\\arima_model.py:472: FutureWarning: \n",
      "statsmodels.tsa.arima_model.ARMA and statsmodels.tsa.arima_model.ARIMA have\n",
      "been deprecated in favor of statsmodels.tsa.arima.model.ARIMA (note the .\n",
      "between arima and model) and\n",
      "statsmodels.tsa.SARIMAX. These will be removed after the 0.12 release.\n",
      "\n",
      "statsmodels.tsa.arima.model.ARIMA makes use of the statespace framework and\n",
      "is both well tested and maintained.\n",
      "\n",
      "To silence this warning and continue using ARMA and ARIMA until they are\n",
      "removed, use:\n",
      "\n",
      "import warnings\n",
      "warnings.filterwarnings('ignore', 'statsmodels.tsa.arima_model.ARMA',\n",
      "                        FutureWarning)\n",
      "warnings.filterwarnings('ignore', 'statsmodels.tsa.arima_model.ARIMA',\n",
      "                        FutureWarning)\n",
      "\n",
      "  warnings.warn(ARIMA_DEPRECATION_WARN, FutureWarning)\n"
     ]
    }
   ],
   "source": [
    "from statsmodels.tsa.arima_model import ARIMA\n",
    "import statsmodels.api as sm\n",
    "\n",
    "# (AR=2, 차분=1, MA=2) 파라미터로 ARIMA 모델을 학습합니다.\n",
    "model = ARIMA(train.covid_num.values, order=(2,1,2))\n",
    "\n",
    "#trend : constant를 가지고 있는지, c - constant / nc - no constant\n",
    "#disp : 수렴 정보를 나타냄\n",
    "model_fit = model.fit(trend='c', full_output=True, disp=True)\n",
    "print(model_fit.summary())"
   ]
  },
  {
   "cell_type": "code",
   "execution_count": 48,
   "metadata": {},
   "outputs": [
    {
     "data": {
      "text/plain": [
       "[<matplotlib.lines.Line2D at 0x24cfd9689d0>]"
      ]
     },
     "execution_count": 48,
     "metadata": {},
     "output_type": "execute_result"
    },
    {
     "data": {
      "image/png": "[encoded data removed]",
      "text/plain": [
       "<Figure size 432x288 with 1 Axes>"
      ]
     },
     "metadata": {
      "needs_background": "light"
     },
     "output_type": "display_data"
    }
   ],
   "source": [
    "forecast_data = model_fit.forecast(steps=30) # 학습 데이터셋으로부터 5일 뒤를 예측합니다.\n",
    "\n",
    "# 테스트 데이터셋을 불러옵니다.\n",
    "\n",
    "\n",
    "\n",
    "pred_y = forecast_data[0].tolist() # 마지막 5일의 예측 데이터입니다. (2018-08-27 ~ 2018-08-31)\n",
    "test_y = test.covid_num.values # 실제 5일 가격 데이터입니다. (2018-08-27 ~ 2018-08-31)\n",
    "pred_y_lower = [] # 마지막 5일의 예측 데이터의 최소값입니다.\n",
    "pred_y_upper = [] # 마지막 5일의 예측 데이터의 최대값입니다.\n",
    "for lower_upper in forecast_data[2]:\n",
    "    lower = lower_upper[0]\n",
    "    upper = lower_upper[1]\n",
    "    pred_y_lower.append(lower)\n",
    "    pred_y_upper.append(upper)\n",
    "    \n",
    "plt.plot(pred_y, color=\"gold\") # 모델이 예상한 가격 그래프입니다.\n",
    "plt.plot(pred_y_lower, color=\"red\") # 모델이 예상한 최소가격 그래프입니다.\n",
    "plt.plot(pred_y_upper, color=\"blue\") # 모델이 예상한 최대가격 그래프입니다.\n",
    "plt.plot(test_y, color=\"green\") # 실제 가격 그래프입니다."
   ]
  },
  {
   "cell_type": "code",
   "execution_count": null,
   "metadata": {},
   "outputs": [],
   "source": []
  }
 ],
 "metadata": {
  "kernelspec": {
   "display_name": "Python 3",
   "language": "python",
   "name": "python3"
  },
  "language_info": {
   "codemirror_mode": {
    "name": "ipython",
    "version": 3
   },
   "file_extension": ".py",
   "mimetype": "text/x-python",
   "name": "python",
   "nbconvert_exporter": "python",
   "pygments_lexer": "ipython3",
   "version": "3.8.5"
  }
 },
 "nbformat": 4,
 "nbformat_minor": 4
}
